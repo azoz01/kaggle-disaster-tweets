{
 "cells": [
  {
   "cell_type": "code",
   "execution_count": 1,
   "metadata": {},
   "outputs": [],
   "source": [
    "import os\n",
    "os.chdir('..')"
   ]
  },
  {
   "cell_type": "code",
   "execution_count": 2,
   "metadata": {},
   "outputs": [],
   "source": [
    "import torch\n",
    "import torch.nn as nn\n",
    "import torch.nn.functional as F\n",
    "from torch.utils.data import Subset, DataLoader\n",
    "\n",
    "from sklearn.model_selection import train_test_split\n",
    "\n",
    "import pytorch_lightning as pl\n",
    "\n",
    "from nn_datasets.rnn import RnnDataset"
   ]
  },
  {
   "cell_type": "code",
   "execution_count": 3,
   "metadata": {},
   "outputs": [],
   "source": [
    "dataset = torch.load('nn_datasets/precalculated_datasets/rnn_dataset.pt')"
   ]
  },
  {
   "cell_type": "code",
   "execution_count": 4,
   "metadata": {},
   "outputs": [],
   "source": [
    "class RNNClassifier(pl.LightningModule):\n",
    "    \"\"\"\n",
    "    Binary classifier with RNN module.\n",
    "    \"\"\"\n",
    "    def __init__(self, seq_len: int, input_size: int, \n",
    "                 hidden_layers: int = 1, hidden_size: int = 10,\n",
    "                 learning_rate: float = 1e-3) -> None:\n",
    "        \"\"\"\n",
    "        Args:\n",
    "            seq_len (int): sequence len i.e. max length of sentence\n",
    "            input_size (int): size of input vector\n",
    "            hidden_layers (int, optional): number of hidden layers.\n",
    "                Defaults to 1.\n",
    "            hidden_size (int, optional): hidden layer size. \n",
    "                Defaults to 10.\n",
    "            learning_rate (float, optional): Defaults to 1e-3.\n",
    "        \"\"\"\n",
    "        super(RNNClassifier, self).__init__()\n",
    "        \n",
    "        self.hidden_size = hidden_size\n",
    "        self.hidden_layers = hidden_layers\n",
    "        self.seq_len = seq_len\n",
    "        self.input_size = input_size\n",
    "\n",
    "        self.learning_rate = learning_rate\n",
    "\n",
    "        self.rnn = nn.RNN(input_size=self.input_size,\n",
    "                          hidden_size=self.hidden_size,\n",
    "                          num_layers=self.hidden_layers,\n",
    "                          batch_first=True)\n",
    "        self.linear = nn.Linear(self.hidden_size, 2)\n",
    "        self.norm = nn.BatchNorm1d(2)\n",
    "\n",
    "    def forward(self, inputs):\n",
    "\n",
    "        out, h_n = self.rnn(inputs)\n",
    "        output = self.linear(out[:, -1, :])\n",
    "\n",
    "        return self.norm(output)\n",
    "\n",
    "    def training_step(self, batch, batch_idx):\n",
    "        X, y = batch\n",
    "        out = self.forward(X)\n",
    "        loss = F.cross_entropy(out, y.long())\n",
    "        accu = (y.long() == torch.argmax(out, axis=1)).float().mean()\n",
    "        self.log('train accuracy', accu, prog_bar=True)\n",
    "        return loss\n",
    "    \n",
    "    def validation_step(self, batch, batch_idx):\n",
    "        X, y = batch\n",
    "        out = self.forward(X)\n",
    "        loss = F.cross_entropy(out, y.long())\n",
    "        accu = (y.long() == torch.argmax(out, axis=1)).float().mean()\n",
    "        self.log('validation loss', loss, prog_bar=True)\n",
    "        self.log('validation accuracy', accu, prog_bar=True)\n",
    "        return loss\n",
    "\n",
    "    def test_step(self, batch, batch_idx):\n",
    "        X, y = batch\n",
    "        out = self.forward(X)\n",
    "        loss = F.cross_entropy(out, y.long())\n",
    "        accu = (y.long() == torch.argmax(out, axis=1)).float().mean()\n",
    "        self.log('test loss', loss, prog_bar=True)\n",
    "        self.log('test accuracy', accu, prog_bar=True)\n",
    "        return loss\n",
    "\n",
    "    def configure_optimizers(self):\n",
    "        return torch.optim.Adam(self.parameters(), self.learning_rate, weight_decay=1e-3)"
   ]
  },
  {
   "cell_type": "code",
   "execution_count": 5,
   "metadata": {},
   "outputs": [],
   "source": [
    "train_indices, test_indices = train_test_split(list(range(len(dataset))), \n",
    "                                               test_size=.4)\n",
    "test_indices, val_indices = train_test_split(test_indices, \n",
    "                                             test_size=.5)\n",
    "\n",
    "train_dataset = Subset(dataset, train_indices)\n",
    "val_dataset = Subset(dataset, val_indices)\n",
    "test_dataset = Subset(dataset, test_indices)\n",
    "\n",
    "train_dataloader = DataLoader(train_dataset, batch_size=32)\n",
    "val_dataloader = DataLoader(val_dataset, batch_size=32)\n",
    "test_dataloader = DataLoader(test_dataset, batch_size=32)"
   ]
  },
  {
   "cell_type": "code",
   "execution_count": null,
   "metadata": {},
   "outputs": [],
   "source": [
    "trainer = pl.Trainer(\n",
    "    max_epochs=10\n",
    ")\n",
    "\n",
    "model = RNNClassifier(seq_len=dataset[0][0].shape[0],\n",
    "                      input_size=dataset[0][0].shape[1],\n",
    "                      hidden_layers=3,\n",
    "                      hidden_size=10,\n",
    "                      learning_rate=1e-3)\n",
    "\n",
    "trainer.fit(model, train_dataloader, val_dataloader)"
   ]
  },
  {
   "cell_type": "code",
   "execution_count": 7,
   "metadata": {},
   "outputs": [
    {
     "name": "stderr",
     "output_type": "stream",
     "text": [
      "C:\\ProgramData\\Anaconda\\envs\\kaggle-disaster-tweets\\lib\\site-packages\\pytorch_lightning\\trainer\\data_loading.py:132: UserWarning: The dataloader, test_dataloader 0, does not have many workers which may be a bottleneck. Consider increasing the value of the `num_workers` argument` (try 8 which is the number of cpus on this machine) in the `DataLoader` init to improve performance.\n",
      "  rank_zero_warn(\n"
     ]
    },
    {
     "name": "stdout",
     "output_type": "stream",
     "text": [
      "Testing:  64%|██████▎   | 28/44 [00:00<00:00, 139.99it/s]--------------------------------------------------------------------------------\n",
      "DATALOADER:0 TEST RESULTS\n",
      "{'test accuracy': 0.7875980138778687, 'test loss': 0.49262693524360657}\n",
      "--------------------------------------------------------------------------------\n",
      "Testing: 100%|██████████| 44/44 [00:00<00:00, 150.28it/s]\n"
     ]
    },
    {
     "data": {
      "text/plain": [
       "[{'test loss': 0.49262693524360657, 'test accuracy': 0.7875980138778687}]"
      ]
     },
     "execution_count": 7,
     "metadata": {},
     "output_type": "execute_result"
    }
   ],
   "source": [
    "trainer.test(model, test_dataloader)"
   ]
  }
 ],
 "metadata": {
  "interpreter": {
   "hash": "2430d861eebc9ab06a913ae1cc7a3e9246515f6036bae25eef7bc02355d2614e"
  },
  "kernelspec": {
   "display_name": "Python 3.6.13 64-bit ('kaggle-disaster-tweets': conda)",
   "language": "python",
   "name": "python3"
  },
  "language_info": {
   "codemirror_mode": {
    "name": "ipython",
    "version": 3
   },
   "file_extension": ".py",
   "mimetype": "text/x-python",
   "name": "python",
   "nbconvert_exporter": "python",
   "pygments_lexer": "ipython3",
   "version": "3.9.5"
  },
  "orig_nbformat": 4
 },
 "nbformat": 4,
 "nbformat_minor": 2
}
