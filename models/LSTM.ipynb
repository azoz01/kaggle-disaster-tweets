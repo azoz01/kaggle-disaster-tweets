{
 "cells": [
  {
   "cell_type": "code",
   "execution_count": 1,
   "metadata": {},
   "outputs": [],
   "source": [
    "import os\n",
    "os.chdir('..')"
   ]
  },
  {
   "cell_type": "code",
   "execution_count": 3,
   "metadata": {},
   "outputs": [],
   "source": [
    "import torch\n",
    "import torch.nn as nn\n",
    "import torch.optim as optim\n",
    "import torch.nn.functional as F\n",
    "\n",
    "from torch.utils.data import DataLoader, Subset\n",
    "\n",
    "from sklearn.model_selection import train_test_split\n",
    "\n",
    "import pytorch_lightning as pl\n",
    "\n",
    "from nn_datasets.rnn import RnnDataset"
   ]
  },
  {
   "cell_type": "code",
   "execution_count": 3,
   "metadata": {},
   "outputs": [],
   "source": [
    "dataset = torch.load('nn_datasets/precalculated_datasets/rnn_dataset.pt')"
   ]
  },
  {
   "cell_type": "code",
   "execution_count": 4,
   "metadata": {},
   "outputs": [],
   "source": [
    "class LSTMClassifier(pl.LightningModule):\n",
    "    def __init__(self, seq_len, input_size, \n",
    "                 hidden_layers = 1, hidden_size = 10, learning_rate = 1e-2):\n",
    "\n",
    "        super(LSTMClassifier, self).__init__()\n",
    "\n",
    "        self.learning_rate = learning_rate\n",
    "        self.hidden_size = hidden_size\n",
    "        self.hidden_layers = hidden_layers\n",
    "        self.seq_len = seq_len\n",
    "        self.input_size = input_size\n",
    "\n",
    "        self.lstm = nn.LSTM(input_size = self.input_size,\n",
    "                            hidden_size  = self.hidden_size,\n",
    "                            num_layers = self.hidden_layers,\n",
    "                            batch_first = True, dropout = .8)\n",
    "\n",
    "        self.classifier = nn.Sequential(\n",
    "            nn.BatchNorm1d(self.hidden_size),\n",
    "            nn.Linear(self.hidden_size, 2),\n",
    "            nn.BatchNorm1d(2)\n",
    "        )                  \n",
    "\n",
    "\n",
    "    def forward(self, inputs):\n",
    "\n",
    "        out, (h_t, c_t) = self.lstm(inputs)\n",
    "        out = self.classifier(out[:, -1, :])\n",
    "        return out\n",
    "\n",
    "    def training_step(self, batch, batch_idx):\n",
    "        X, y = batch\n",
    "        out = self.forward(X)\n",
    "        loss = F.cross_entropy(out, y.long())\n",
    "        accu = (y.long() == torch.argmax(out, axis = 1)).float().mean()\n",
    "        self.log('train accuracy', accu, prog_bar = True)\n",
    "        return loss\n",
    "    \n",
    "    def validation_step(self, batch, batch_idx):\n",
    "        X, y = batch\n",
    "        out = self.forward(X)\n",
    "        loss = F.cross_entropy(out, y.long())\n",
    "        accu = (y.long() == torch.argmax(out, axis = 1)).float().mean()\n",
    "        self.log('validation loss', loss, prog_bar = True)\n",
    "        self.log('validation accuracy', accu, prog_bar = True)\n",
    "        return loss\n",
    "\n",
    "    def test_step(self, batch, batch_idx):\n",
    "        X, y = batch\n",
    "        out = self.forward(X)\n",
    "        loss = F.cross_entropy(out, y.long())\n",
    "        accu = (y.long() == torch.argmax(out, axis = 1)).float().mean()\n",
    "        self.log('test loss', loss, prog_bar = True)\n",
    "        self.log('test accuracy', accu, prog_bar = True)\n",
    "        return loss\n",
    "\n",
    "    def configure_optimizers(self):\n",
    "        return optim.Adam(self.parameters(), self.learning_rate, weight_decay = 1e-2)\n"
   ]
  },
  {
   "cell_type": "code",
   "execution_count": 5,
   "metadata": {},
   "outputs": [],
   "source": [
    "train_indices, test_indices = train_test_split(list(range(len(dataset))), test_size = .4)\n",
    "test_indices, val_indices = train_test_split(test_indices, test_size = .5)\n",
    "\n",
    "train_dataset = Subset(dataset, train_indices)\n",
    "val_dataset = Subset(dataset, val_indices)\n",
    "test_dataset = Subset(dataset, test_indices)\n",
    "\n",
    "train_dataloader = DataLoader(train_dataset, batch_size = 32)\n",
    "val_dataloader = DataLoader(val_dataset, batch_size = 32)\n",
    "test_dataloader = DataLoader(test_dataset, batch_size = 32)"
   ]
  },
  {
   "cell_type": "code",
   "execution_count": null,
   "metadata": {},
   "outputs": [],
   "source": [
    "trainer = pl.Trainer(\n",
    "    max_epochs = 5\n",
    ")\n",
    "\n",
    "model = LSTMClassifier(seq_len = dataset[0][0].shape[0],\n",
    "                      input_size = dataset[0][0].shape[1],\n",
    "                      hidden_layers = 2,\n",
    "                      hidden_size = 10,\n",
    "                      learning_rate = 1e-2)\n",
    "\n",
    "trainer.fit(model, train_dataloader, val_dataloader)"
   ]
  },
  {
   "cell_type": "code",
   "execution_count": 10,
   "metadata": {},
   "outputs": [
    {
     "name": "stderr",
     "output_type": "stream",
     "text": [
      "C:\\ProgramData\\Anaconda\\envs\\kaggle-disaster-tweets\\lib\\site-packages\\pytorch_lightning\\trainer\\data_loading.py:132: UserWarning: The dataloader, test_dataloader 0, does not have many workers which may be a bottleneck. Consider increasing the value of the `num_workers` argument` (try 8 which is the number of cpus on this machine) in the `DataLoader` init to improve performance.\n",
      "  rank_zero_warn(\n"
     ]
    },
    {
     "name": "stdout",
     "output_type": "stream",
     "text": [
      "Testing:  84%|████████▍ | 37/44 [00:00<00:00, 92.58it/s]--------------------------------------------------------------------------------\n",
      "DATALOADER:0 TEST RESULTS\n",
      "{'test accuracy': 0.7783321738243103, 'test loss': 0.503904402256012}\n",
      "--------------------------------------------------------------------------------\n",
      "Testing: 100%|██████████| 44/44 [00:00<00:00, 88.28it/s]\n"
     ]
    },
    {
     "data": {
      "text/plain": [
       "[{'test loss': 0.503904402256012, 'test accuracy': 0.7783321738243103}]"
      ]
     },
     "execution_count": 10,
     "metadata": {},
     "output_type": "execute_result"
    }
   ],
   "source": [
    "trainer.test(model, test_dataloader)"
   ]
  }
 ],
 "metadata": {
  "interpreter": {
   "hash": "20ae8cd4a8bb0e6ede0b0e75deb89613ed68640901718a94ed5acb9c26790eae"
  },
  "kernelspec": {
   "display_name": "Python 3.9.5 64-bit ('kaggle-disaster-tweets': conda)",
   "language": "python",
   "name": "python3"
  },
  "language_info": {
   "codemirror_mode": {
    "name": "ipython",
    "version": 3
   },
   "file_extension": ".py",
   "mimetype": "text/x-python",
   "name": "python",
   "nbconvert_exporter": "python",
   "pygments_lexer": "ipython3",
   "version": "3.9.5"
  },
  "orig_nbformat": 4
 },
 "nbformat": 4,
 "nbformat_minor": 2
}
